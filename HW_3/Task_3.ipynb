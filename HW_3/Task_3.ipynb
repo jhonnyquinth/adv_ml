{
 "cells": [
  {
   "cell_type": "code",
   "execution_count": 98,
   "id": "68327ea6",
   "metadata": {},
   "outputs": [],
   "source": [
    "import os\n",
    "import re\n",
    "import random\n",
    "from copy import copy\n",
    "from collections import Counter, defaultdict\n",
    "\n",
    "import pandas as pd\n",
    "import numpy as np"
   ]
  },
  {
   "cell_type": "markdown",
   "id": "079f8906",
   "metadata": {},
   "source": [
    "### 1"
   ]
  },
  {
   "cell_type": "markdown",
   "id": "2a436413",
   "metadata": {},
   "source": [
    "Реализуйте базовый частотный метод по Шерлоку Холмсу:\n",
    "- подсчитайте частоты букв по корпусам (пунктуацию и капитализацию можно просто опустить, а вот пробелы лучше оставить);\n",
    "- возьмите какие-нибудь тестовые тексты (нужно взять по меньшей мере 2-3 предложения, иначе вряд ли сработает), зашифруйте их посредством случайной перестановки символов;\n",
    "- расшифруйте их таким частотным методом.\n"
   ]
  },
  {
   "cell_type": "code",
   "execution_count": 17,
   "id": "01535b1f",
   "metadata": {},
   "outputs": [
    {
     "data": {
      "text/plain": [
       "dict_keys(['WarAndPeaceEng', 'WarAndPeace', 'AnnaKarenina'])"
      ]
     },
     "execution_count": 17,
     "metadata": {},
     "output_type": "execute_result"
    }
   ],
   "source": [
    "# Чтение и обработка файла из первого пункта\n",
    "files = {}\n",
    "path = 'corpora/'\n",
    "for file in os.listdir(path):\n",
    "    file_name = file.split('.')[0]\n",
    "    with open(path + file, 'r') as f:\n",
    "        files[file_name] = Counter(''.join(re.findall(r'[\\w ]+',f.read())).lower())\n",
    "files.keys()"
   ]
  },
  {
   "cell_type": "markdown",
   "id": "f4b4cf6d",
   "metadata": {},
   "source": [
    "Очень странно, что в русском тескте английские бувы встречаются чаще некоторых русских, например буквы Щ или Ф. Но так как мы хотим расшиврововать русские тексты с помощью русского корпуса и английские с помощью английского, предлагаю оставить только числа, пробелы и символы русского и английского алфавита для русского и английского текста соответственно"
   ]
  },
  {
   "cell_type": "code",
   "execution_count": 22,
   "id": "64f14f5f",
   "metadata": {
    "scrolled": true
   },
   "outputs": [
    {
     "data": {
      "text/plain": [
       "[(' ', 110708),\n",
       " ('о', 61282),\n",
       " ('а', 45209),\n",
       " ('е', 42519),\n",
       " ('и', 35838),\n",
       " ('н', 35119),\n",
       " ('т', 30619),\n",
       " ('с', 28128),\n",
       " ('л', 27277),\n",
       " ('в', 24824),\n",
       " ('р', 24570),\n",
       " ('к', 19328),\n",
       " ('д', 16387),\n",
       " ('м', 15940),\n",
       " ('у', 15454),\n",
       " ('п', 13847),\n",
       " ('я', 12477),\n",
       " ('г', 11177),\n",
       " ('ь', 10498),\n",
       " ('ы', 10233),\n",
       " ('з', 9602),\n",
       " ('б', 9310),\n",
       " ('ч', 7349),\n",
       " ('й', 6210),\n",
       " ('ж', 5460),\n",
       " ('ш', 5090),\n",
       " ('х', 4600),\n",
       " ('e', 4449),\n",
       " ('ю', 3495),\n",
       " ('ц', 2179),\n",
       " ('n', 2066),\n",
       " ('s', 2058),\n",
       " ('i', 1988),\n",
       " ('a', 1887),\n",
       " ('r', 1853),\n",
       " ('u', 1732),\n",
       " ('o', 1724),\n",
       " ('t', 1640),\n",
       " ('э', 1629),\n",
       " ('щ', 1514),\n",
       " ('l', 1312),\n",
       " ('ф', 1209),\n",
       " ('m', 1131),\n",
       " ('c', 921),\n",
       " ('d', 870),\n",
       " ('p', 726),\n",
       " ('v', 616),\n",
       " ('ё', 431),\n",
       " ('h', 416),\n",
       " ('é', 367),\n",
       " ('b', 317),\n",
       " ('q', 292),\n",
       " ('f', 290),\n",
       " ('ъ', 283),\n",
       " ('g', 221),\n",
       " ('j', 217),\n",
       " ('z', 182),\n",
       " ('x', 148),\n",
       " ('è', 143),\n",
       " ('à', 110),\n",
       " ('0', 70),\n",
       " ('ê', 61),\n",
       " ('y', 60),\n",
       " ('1', 53),\n",
       " ('k', 41),\n",
       " ('w', 37),\n",
       " ('2', 26),\n",
       " ('ç', 23),\n",
       " ('8', 20),\n",
       " ('â', 18),\n",
       " ('5', 17),\n",
       " ('3', 16),\n",
       " ('ô', 11),\n",
       " ('7', 9),\n",
       " ('6', 9),\n",
       " ('9', 9),\n",
       " ('î', 8),\n",
       " ('4', 6),\n",
       " ('ö', 6),\n",
       " ('ü', 4),\n",
       " ('û', 2),\n",
       " ('í', 1),\n",
       " ('ä', 1),\n",
       " ('å', 1)]"
      ]
     },
     "execution_count": 22,
     "metadata": {},
     "output_type": "execute_result"
    }
   ],
   "source": [
    "files['WarAndPeace'].most_common()"
   ]
  },
  {
   "cell_type": "code",
   "execution_count": 62,
   "id": "4b2877c6",
   "metadata": {},
   "outputs": [],
   "source": [
    "def get_selected_words(word_list: list, cnt: Counter) -> dict:\n",
    "    word_set = set(word_list)\n",
    "    filtred_dict = {}\n",
    "    for letter in cnt.keys():\n",
    "        if letter in word_set:\n",
    "            filtred_dict[letter] = cnt[letter]\n",
    "            \n",
    "    return Counter(filtred_dict)"
   ]
  },
  {
   "cell_type": "code",
   "execution_count": 110,
   "id": "4e053394",
   "metadata": {},
   "outputs": [],
   "source": [
    "numbers_space = [' '] + [str(i) for i in range(10)]\n",
    "russian_alf = [chr(i) for i in range(ord('а'), ord('я') + 1)] + numbers_space\n",
    "english_alf = [chr(i) for i in range(ord('a'), ord('z') + 1)] + numbers_space"
   ]
  },
  {
   "cell_type": "code",
   "execution_count": 64,
   "id": "0daec3cb",
   "metadata": {},
   "outputs": [],
   "source": [
    "corpuses = {}\n",
    "corpuses['WarAndPeace'] = get_selected_words(russian_alf, files['WarAndPeace'])\n",
    "corpuses['AnnaKarenina'] = get_selected_words(russian_alf, files['AnnaKarenina'])\n",
    "corpuses['WarAndPeaceEng'] = get_selected_words(english_alf, files['WarAndPeaceEng'])"
   ]
  },
  {
   "cell_type": "markdown",
   "id": "35146f1e",
   "metadata": {},
   "source": [
    "Напишем энкодер и декодер"
   ]
  },
  {
   "cell_type": "code",
   "execution_count": 51,
   "id": "dcc754bc",
   "metadata": {},
   "outputs": [],
   "source": [
    "class RandomEncoder:\n",
    "    def __init__(self, alphabet: list, seed: int = 42):\n",
    "        self.alpha = alphabet\n",
    "        self.seed = seed\n",
    "        self.encoder = self._create_sorted_dict()\n",
    "        self.decoder = {v : k for k, v in self.encoder.items()}\n",
    "        \n",
    "    def _create_sorted_dict(self):\n",
    "        encoder = {}\n",
    "        alpha_shuffle = copy(self.alpha)\n",
    "        random.Random(self.seed).shuffle(alpha_shuffle)\n",
    "        for l1, l2 in zip(self.alpha, alpha_shuffle):\n",
    "            encoder[l1] = l2\n",
    "            \n",
    "        return encoder\n",
    "    \n",
    "    def encode(self, s: str) -> str:\n",
    "        res = [''] * len(s)\n",
    "        for idx, letter in enumerate(s.lower()):\n",
    "            res[idx] = self.encoder.get(letter,letter)\n",
    "            \n",
    "        return ''.join(res)\n",
    "    \n",
    "    def decode(self, s: str) -> str:\n",
    "        res = [''] * len(s)\n",
    "        for idx, letter in enumerate(s.lower()):\n",
    "            res[idx] = self.decoder.get(letter,letter)\n",
    "            \n",
    "        return ''.join(res)"
   ]
  },
  {
   "cell_type": "code",
   "execution_count": 52,
   "id": "6aab4b58",
   "metadata": {},
   "outputs": [
    {
     "name": "stdout",
     "output_type": "stream",
     "text": [
      "input : Мама мыла раму\n",
      "encode: ь5ь5ль715лц5ь4\n",
      "decode: мама мыла раму\n"
     ]
    }
   ],
   "source": [
    "rus_enc = RandomEncoder(russian_alf)\n",
    "test_s = 'Мама мыла раму'\n",
    "rus_enc.encode(test_s)\n",
    "print(f'input : {test_s}\\nencode: {rus_enc.encode(test_s)}\\ndecode: {rus_enc.decode(rus_enc.encode(test_s))}')"
   ]
  },
  {
   "cell_type": "code",
   "execution_count": 53,
   "id": "cc971262",
   "metadata": {},
   "outputs": [
    {
     "name": "stdout",
     "output_type": "stream",
     "text": [
      "input : Hello word, im buisy\n",
      "encode: ew44l78lqj,7y57uzy9s\n",
      "decode: hello word, im buisy\n"
     ]
    }
   ],
   "source": [
    "rus_enc = RandomEncoder(english_alf)\n",
    "test_s = 'Hello word, im buisy'\n",
    "rus_enc.encode(test_s)\n",
    "print(f'input : {test_s}\\nencode: {rus_enc.encode(test_s)}\\ndecode: {rus_enc.decode(rus_enc.encode(test_s))}')"
   ]
  },
  {
   "cell_type": "code",
   "execution_count": 72,
   "id": "0fb2c7ac",
   "metadata": {},
   "outputs": [],
   "source": [
    "# считаем\n",
    "def frec_decode(base_alf, sentence):\n",
    "    decoder = {}\n",
    "    sentence_d = get_selected_words(russian_alf, Counter(sentence.lower()))\n",
    "    ordered_sentence_letters = list(map(lambda x: x[0], sentence_d.most_common()))\n",
    "    ordered_base_alf_letters = list(map(lambda x: x[0], base_alf.most_common()))\n",
    "    for l_s, l_b in zip(ordered_sentence_letters, ordered_base_alf_letters):\n",
    "        decoder[l_s] = l_b\n",
    "        \n",
    "    res = [''] * len(sentence)\n",
    "    for idx, letter in enumerate(sentence.lower()):\n",
    "        res[idx] = decoder.get(letter,letter)\n",
    "            \n",
    "    return ''.join(res)"
   ]
  },
  {
   "cell_type": "markdown",
   "id": "0edba601",
   "metadata": {},
   "source": [
    "Вот несколько примеров работы"
   ]
  },
  {
   "cell_type": "code",
   "execution_count": 77,
   "id": "e6c9c65b",
   "metadata": {},
   "outputs": [
    {
     "name": "stdout",
     "output_type": "stream",
     "text": [
      "input : Hello word, im buisyencode: ew44l78lqj,7y57uzy9s\n",
      "decode: hello word, im buisy\n",
      "freq_dec: eweel tlqj, ya uzyos\n"
     ]
    }
   ],
   "source": [
    "alf = english_alf\n",
    "enc = RandomEncoder(alf)\n",
    "test_s = 'Hello word, im buisy'\n",
    "code = enc.encode(test_s)\n",
    "print(f\"\"\"input : {test_s}\\\n",
    "encode: {code}\n",
    "decode: {enc.decode(code)}\n",
    "freq_dec: {frec_decode(corpuses['WarAndPeaceEng'], code)}\"\"\")"
   ]
  },
  {
   "cell_type": "code",
   "execution_count": 85,
   "id": "07b5f8d2",
   "metadata": {},
   "outputs": [
    {
     "name": "stdout",
     "output_type": "stream",
     "text": [
      "input: English texts for beginners to practice reading and comprehension online and for free. Practicing your comprehension of written English will both improve your vocabulary and understanding of grammar and word order. The texts below are designed to help you develop while giving you an instant evaluation of your progress.\n",
      "\n",
      "encode: wk04y9e7gwng97 lq7uw0ykkwq97gl7tqfmgymw7qwfjyk07fkj7ml5tqwewk9ylk7lk4ykw7fkj7 lq7 qww.7tqfmgymyk07slzq7ml5tqwewk9ylk7l 78qyggwk7wk04y9e78y447ulge7y5tqlaw7slzq7almfuz4fqs7fkj7zkjwq9gfkjyk07l 70qf55fq7fkj78lqj7lqjwq.7gew7gwng97uw4l87fqw7jw9y0kwj7gl7ew4t7slz7jwaw4lt78ey4w70yayk07slz7fk7yk9gfkg7waf4zfgylk7l 7slzq7tql0qw99. \n",
      "\n",
      "decode: english texts for beginners to practice reading and comprehension online and for free. practicing your comprehension of written english will both improve your vocabulary and understanding of grammar and word order. the texts below are designed to help you develop while giving you an instant evaluation of your progress.\n",
      "\n",
      "WAP: wktayee gwnge olq uwtykkwqe gl tqfmgymw qwfjykt fkj mlntqwewkeylk lkaykw fkj olq oqww. tqfmgymykt slzq mlntqwewkeylk lo iqyggwk wktayee iyaa ulge yntqlaw slzq almfuzafqs fkj zkjwqegfkjykt lo tqfnnfq fkj ilqj lqjwq. gew gwnge uwali fqw jweytkwj gl ewat slz jwawalt ieyaw tyaykt slz fk ykegfkg wafazfgylk lo slzq tqltqwee.\n",
      "\n"
     ]
    }
   ],
   "source": [
    "alf = english_alf\n",
    "enc = RandomEncoder(alf)\n",
    "test_s = 'English texts for beginners to practice reading and comprehension online and for free. Practicing your comprehension of written English will both improve your vocabulary and understanding of grammar and word order. The texts below are designed to help you develop while giving you an instant evaluation of your progress.'\n",
    "code = enc.encode(test_s)\n",
    "print(f\"\"\"input: {test_s}\\n\n",
    "encode: {code} \\n\n",
    "decode: {enc.decode(code)}\\n\n",
    "WAP: {frec_decode(corpuses['WarAndPeaceEng'], code)}\n",
    "\"\"\")"
   ]
  },
  {
   "cell_type": "code",
   "execution_count": 89,
   "id": "232362da",
   "metadata": {},
   "outputs": [
    {
     "name": "stdout",
     "output_type": "stream",
     "text": [
      "input: Сбербанк увеличил максимальную сумму кредита по ипотеке с господдержкой до 30 млн руб. для Москвы, Московской области, Санкт-Петербурга и Ленинградской области и до 15 млн руб. для других регионов, сообщили в банке.\n",
      "\n",
      "encode: 4гт3гйхцынктлд6длыэйц4дэйл2хнаы4нээныц3т5д йышмыдшм тцты4ыъм4шм55т39цм0ы5мыиеыэлхы3нг.ы5лвыэм4цк8,ыэм4цмк4цм0ымглй4 д,ы4йхц -шт т3гн3ъйыдылтхдхъ3й54цм0ымглй4 дыды5мы1пыэлхы3нг.ы5лвы53нъдфы3тъдмхмк,ы4ммгудлдыкыгйхцт. \n",
      "\n",
      "decode: сбербанк увеличил максимальную сумму кредита по ипотеке с господдержкой до 30 млн руб. для москвы, московской области, санкт-петербурга и ленинградской области и до 15 млн руб. для других регионов, сообщили в банке.\n",
      "\n",
      "WAP: евисвлрн дпитазат млнеамлтбрдч едммд нсикаул го агоуини е яоегоккисйноь ко жш мтр сдв. кты моенпх, моенопеноь овтлеуа, елрну-гиуисвдсял а тираряслкеноь овтлеуа а ко юц мтр сдв. кты ксдяаэ сияаороп, еоовщата п влрни. \n",
      "\n",
      "AK: авнсвлри дпнтебет млиаемлтчрдз адммд иснкеул ьо еьоунин а яоаьоккнсжиоы ко йш мтр сдв. ктг моаипх, моаиопаиоы овтлауе, алриу-ьнунсвдсял е тнреряслкаиоы овтлауе е ко юэ мтр сдв. ктг ксдяещ сняеороп, аоовцете п влрин.\n",
      "\n"
     ]
    }
   ],
   "source": [
    "alf = russian_alf\n",
    "enc = RandomEncoder(alf)\n",
    "test_s = 'Сбербанк увеличил максимальную сумму кредита по ипотеке с господдержкой до 30 млн руб. для Москвы, Московской области, Санкт-Петербурга и Ленинградской области и до 15 млн руб. для других регионов, сообщили в банке.'\n",
    "code = enc.encode(test_s)\n",
    "print(f\"\"\"input: {test_s}\\n\n",
    "encode: {code} \\n\n",
    "decode: {enc.decode(code)}\\n\n",
    "WAP: {frec_decode(corpuses['WarAndPeace'], code)} \\n\n",
    "AK: {frec_decode(corpuses['AnnaKarenina'], code)}\n",
    "\"\"\")"
   ]
  },
  {
   "cell_type": "markdown",
   "id": "a2785b3b",
   "metadata": {},
   "source": [
    "По итогу выглядит похоже на истину, пробелы всегда расшифровываются верно, если пытаться грузить достаточно длинные тексты, то это можно пытаться читать и получается что-то издали напоминющее нужные слова"
   ]
  },
  {
   "cell_type": "markdown",
   "id": "770def20",
   "metadata": {},
   "source": [
    "### 2"
   ]
  },
  {
   "cell_type": "markdown",
   "id": "b72cd715",
   "metadata": {},
   "source": [
    "Вряд ли в результате получилась такая уж хорошая расшифровка, разве что если вы брали в качестве тестовых данных целые рассказы. Но и Шерлок Холмс был не так уж прост: после буквы E, которая действительно выделяется частотой, дальше он анализировал уже конкретные слова и пытался угадать, какими они могли бы быть. Я не знаю, как запрограммировать такой интуитивный анализ, так что давайте просто сделаем следующий логический шаг:\n",
    "- подсчитайте частоты биграмм (т.е. пар последовательных букв) по корпусам;\n",
    "- проведите тестирование аналогично п.1, но при помощи биграмм.\n"
   ]
  },
  {
   "cell_type": "markdown",
   "id": "29546df6",
   "metadata": {},
   "source": [
    "Я сначала реализовал вариант без пробелов(биграммы только на словах делаются), но на полпути понял,\n",
    "что пробел может быть не пробелом в коде"
   ]
  },
  {
   "cell_type": "code",
   "execution_count": 107,
   "id": "85e84b9c",
   "metadata": {},
   "outputs": [],
   "source": [
    "filter_symbols = lambda alf, x: ''.join(list(filter(lambda x: x in alf, x.lower())))"
   ]
  },
  {
   "cell_type": "code",
   "execution_count": 111,
   "id": "e3ce3eae",
   "metadata": {},
   "outputs": [
    {
     "data": {
      "text/plain": [
       "dict_keys(['WarAndPeaceEng', 'WarAndPeace', 'AnnaKarenina'])"
      ]
     },
     "execution_count": 111,
     "metadata": {},
     "output_type": "execute_result"
    }
   ],
   "source": [
    "# Чтение и обработка файла\n",
    "files = {}\n",
    "path = 'corpora/'\n",
    "for file in os.listdir(path):\n",
    "    file_name = file.split('.')[0]\n",
    "    if 'Eng' in file_name:\n",
    "        with open(path + file, 'r') as f:\n",
    "            files[file_name] = filter_symbols(english_alf, f.read())\n",
    "    else:\n",
    "        with open(path + file, 'r') as f:\n",
    "            files[file_name] = filter_symbols(russian_alf, f.read())\n",
    "files.keys()"
   ]
  },
  {
   "cell_type": "code",
   "execution_count": 113,
   "id": "84d08295",
   "metadata": {},
   "outputs": [
    {
     "data": {
      "text/plain": [
       "'война и мир  самый известный роман льва николаевича толстого как никакое другое произведение писателя'"
      ]
     },
     "execution_count": 113,
     "metadata": {},
     "output_type": "execute_result"
    }
   ],
   "source": [
    "files['WarAndPeace'][:101]"
   ]
  },
  {
   "cell_type": "code",
   "execution_count": 133,
   "id": "03a652d9",
   "metadata": {},
   "outputs": [],
   "source": [
    "def get_bigram_counter(corpus: str)->Counter:\n",
    "    res = defaultdict(int)\n",
    "    for idx in range(1, len(corpus)):\n",
    "        pair = corpus[idx - 1] + corpus[idx]\n",
    "        res[pair] += 1\n",
    "    return Counter(res)"
   ]
  },
  {
   "cell_type": "code",
   "execution_count": 130,
   "id": "cd4b8908",
   "metadata": {},
   "outputs": [],
   "source": [
    "def frec_bi_decode(base_alf, sentence, filter_alf):\n",
    "    decoder = {}\n",
    "    f_sent = filter_symbols(filter_alf, sentence)\n",
    "    sentence_d = get_bigram_counter(f_sent)\n",
    "    ordered_sentence_letters = list(map(lambda x: x[0], sentence_d.most_common()))\n",
    "    ordered_base_alf_letters = list(map(lambda x: x[0], base_alf.most_common()))\n",
    "    for l_s, l_b in zip(ordered_sentence_letters, ordered_base_alf_letters):\n",
    "        decoder[l_s] = l_b\n",
    "        \n",
    "    res = []\n",
    "    for idx in range(1, len(f_sent) // 2):\n",
    "        bigram = f_sent[2*idx: 2*idx + 2]\n",
    "        res.append(decoder.get(bigram, 'UDT'))\n",
    "    if len(f_sent) % 2 == 1:\n",
    "        res.append('UDT')\n",
    "    \n",
    "            \n",
    "    return ''.join(res)"
   ]
  },
  {
   "cell_type": "code",
   "execution_count": 134,
   "id": "13bb9182",
   "metadata": {},
   "outputs": [],
   "source": [
    "word ='c'\n",
    "for idx in range(len(word) // 2):\n",
    "    print(word[2*idx: 2*idx + 2])"
   ]
  },
  {
   "cell_type": "code",
   "execution_count": 135,
   "id": "d3aeb0f2",
   "metadata": {},
   "outputs": [
    {
     "data": {
      "text/plain": [
       "' вне  пр мпорианра гтьк атоге одак рко заз е о уасемжелеойетбыдоми ссткальчт бвоь  деренон пего  к сит сстгоослиа сь  ю х  вруныова ченнтраяди сстгоослиа а камеам бвоь  деренсевынуна лки эорпегослпоейкн нй '"
      ]
     },
     "execution_count": 135,
     "metadata": {},
     "output_type": "execute_result"
    }
   ],
   "source": [
    "test_s = 'Сбербанк увеличил максимальную сумму кредита по ипотеке с господдержкой до 30 млн руб. для Москвы, Московской области, Санкт-Петербурга и Ленинградской области и до 15 млн руб. для других регионов, сообщили в банке.'\n",
    "frec_bi_decode(get_bigram_counter(files['WarAndPeace']), test_s, russian_alf)"
   ]
  },
  {
   "cell_type": "code",
   "execution_count": 138,
   "id": "2cd2984c",
   "metadata": {},
   "outputs": [
    {
     "name": "stdout",
     "output_type": "stream",
     "text": [
      "input: Сбербанк увеличил максимальную сумму кредита по ипотеке с господдержкой до 30 млн руб. для Москвы, Московской области, Санкт-Петербурга и Ленинградской области и до 15 млн руб. для других регионов, сообщили в банке.\n",
      "\n",
      "encode: 4гт3гйхцынктлд6длыэйц4дэйл2хнаы4нээныц3т5д йышмыдшм тцты4ыъм4шм55т39цм0ы5мыиеыэлхы3нг.ы5лвыэм4цк8,ыэм4цмк4цм0ымглй4 д,ы4йхц -шт т3гн3ъйыдылтхдхъ3й54цм0ымглй4 дыды5мы1пыэлхы3нг.ы5лвы53нъдфы3тъдмхмк,ы4ммгудлдыкыгйхцт. \n",
      "\n",
      "decode: сбербанк увеличил максимальную сумму кредита по ипотеке с господдержкой до 30 млн руб. для москвы, московской области, санкт-петербурга и ленинградской области и до 15 млн руб. для других регионов, сообщили в банке.\n",
      "\n",
      "WAP: евисвлрн дпитазат млнеамлтбрдч едммд нсикаул го агоуини е яоегоккисйноь ко жш мтр сдв. кты моенпх, моенопеноь овтлеуа, елрну-гиуисвдсял а тираряслкеноь овтлеуа а ко юц мтр сдв. кты ксдяаэ сияаороп, еоовщата п влрни. \n",
      "\n",
      "AK: авнсвлри дпнтебет млиаемлтчрдз адммд иснкеул ьо еьоунин а яоаьоккнсжиоы ко йш мтр сдв. ктг моаипх, моаиопаиоы овтлауе, алриу-ьнунсвдсял е тнреряслкаиоы овтлауе е ко юэ мтр сдв. ктг ксдяещ сняеороп, аоовцете п влрин. \n",
      "\n",
      "BiWAP :  вне  пр мпорианра гтьк атоге одак рко заз е о уасемжелеойетбыдоми ссткальчт бвоь  деренон пего  к сит сстгоослиа сь  ю х  вруныова ченнтраяди сстгоослиа а камеам бвоь  деренсевынуна лки эорпегослпоейкн нй  \n",
      "\n",
      "BiAK :  вго пв заонлеер тсктаомк оги деричткодаакатя азы быин ужееместиит нь овегльенл новорора б свсо на н г нь алтьоса че пмо а воймениа с кисьмуив нь алтьоса а овтвыленл новорора жслевнеоеману мтралсоонаявытола\n",
      "\n"
     ]
    }
   ],
   "source": [
    "alf = russian_alf\n",
    "enc = RandomEncoder(alf)\n",
    "test_s = 'Сбербанк увеличил максимальную сумму кредита по ипотеке с господдержкой до 30 млн руб. для Москвы, Московской области, Санкт-Петербурга и Ленинградской области и до 15 млн руб. для других регионов, сообщили в банке.'\n",
    "code = enc.encode(test_s)\n",
    "print(f\"\"\"input: {test_s}\\n\n",
    "encode: {code} \\n\n",
    "decode: {enc.decode(code)}\\n\n",
    "WAP: {frec_decode(corpuses['WarAndPeace'], code)} \\n\n",
    "AK: {frec_decode(corpuses['AnnaKarenina'], code)} \\n\n",
    "BiWAP : {frec_bi_decode(get_bigram_counter(files['WarAndPeace']), code, russian_alf)} \\n\n",
    "BiAK : {frec_bi_decode(get_bigram_counter(files['AnnaKarenina']), code, russian_alf)}\n",
    "\"\"\")"
   ]
  },
  {
   "cell_type": "markdown",
   "id": "4202e979",
   "metadata": {},
   "source": [
    "Видно, что стало хуже, основная проблема в том, что биграм больше, чем букв, а количество биграм на сопоставимом уровне и получается, на каждую биграмму меньше статистики и результаты хуже. Это можно отлично видеть на примере пробелов, которые очень хорошо определялись при буквенном алгоритме, но существенно хуже при биграммах. Таже по биргаммам есть ряд вопросов:\n",
    "- что делать с текстами нечетной длины? \n",
    "- при декодированни мы смотрели идущую пару и заменяли ее, но возможно имеет смысл сдвигать пары на 1 и качество бы улучшилось?\n",
    "\n",
    "Получается биграммы более сложный инструмент, который требует больше данных и больше внимания к деталям. Оптимальной была бы смесь биграмм и букв, но это уже другое напрпавление исследования "
   ]
  },
  {
   "cell_type": "markdown",
   "id": "1577bd21",
   "metadata": {},
   "source": [
    "### 3"
   ]
  },
  {
   "cell_type": "markdown",
   "id": "b9c77e11",
   "metadata": {},
   "source": [
    "Но и это ещё не всё: биграммы скорее всего тоже далеко не всегда работают. Основная часть задания — в том, как можно их улучшить:\n",
    "- предложите метод обучения перестановки символов в этом задании, основанный на MCMC-сэмплировании, но по-прежнему работающий на основе статистики биграмм;\n",
    "- реализуйте и протестируйте его, убедитесь, что результаты улучшились.\n"
   ]
  },
  {
   "cell_type": "code",
   "execution_count": 152,
   "id": "b1c5f0cc",
   "metadata": {},
   "outputs": [],
   "source": [
    "text = 'левин думал о евангельском изречении не потому что'"
   ]
  },
  {
   "cell_type": "code",
   "execution_count": 215,
   "id": "c7152029",
   "metadata": {},
   "outputs": [],
   "source": [
    "def llh(text, base_alf, filter_alf):\n",
    "    f_sent = filter_symbols(filter_alf, ''.join(text))\n",
    "    sentence_d = get_bigram_counter(f_sent)\n",
    "    llh = np.sum([val * np.log(base_alf.get(key, 1 / len(filter_alf) ** 2)) for key, val in sentence_d.items()])\n",
    "    \n",
    "    return llh"
   ]
  },
  {
   "cell_type": "code",
   "execution_count": 216,
   "id": "8646deec",
   "metadata": {},
   "outputs": [
    {
     "data": {
      "text/plain": [
       "435.4853444834954"
      ]
     },
     "execution_count": 216,
     "metadata": {},
     "output_type": "execute_result"
    }
   ],
   "source": [
    "llh(text, get_bigram_counter(files['AnnaKarenina']), russian_alf)"
   ]
  },
  {
   "cell_type": "code",
   "execution_count": 232,
   "id": "f0770779",
   "metadata": {},
   "outputs": [],
   "source": [
    "def change_pair(alf, sentence):\n",
    "    text = list(sentence)\n",
    "    permut = np.random.choice(list(alf), 2, replace=False)\n",
    "    while permut[0] == permut[1]:\n",
    "        permut = np.random.choice(list(alf), 2, replace=False)\n",
    "    for iterr in range(len(text)):\n",
    "        if text[iterr] == permut[0]:\n",
    "            text[iterr] = permut[1]\n",
    "        elif text[iterr] == permut[1]:\n",
    "            text[iterr] = permut[0]\n",
    "            \n",
    "    return text"
   ]
  },
  {
   "cell_type": "code",
   "execution_count": 239,
   "id": "cf093854",
   "metadata": {},
   "outputs": [
    {
     "name": "stdout",
     "output_type": "stream",
     "text": [
      "1 и\n",
      "1 и\n",
      "1 и\n",
      "1 и\n"
     ]
    }
   ],
   "source": [
    "for w1, w2 in zip(change_pair(russian_alf, text), text):\n",
    "    if w1 != w2:\n",
    "        print(w1, w2)"
   ]
  },
  {
   "cell_type": "code",
   "execution_count": 173,
   "id": "1b003c7a",
   "metadata": {},
   "outputs": [],
   "source": [
    "condition = lambda x, y: x > y or np.random.rand() < np.exp(x - y)"
   ]
  },
  {
   "cell_type": "code",
   "execution_count": 245,
   "id": "5b12e833",
   "metadata": {},
   "outputs": [],
   "source": [
    "def mcmc_decoder(sentence, alf, base_alf, num_iters=10000):\n",
    "    text = list(sentence.lower())\n",
    "    decoder_text = 'Не отработал'\n",
    "    value_likelihood = best_value = llh(text, base_alf, alf)\n",
    "    for iteration in range(num_iters):\n",
    "        new_text = change_pair(alf, copy(text))\n",
    "        new_value_likelihood = llh(new_text, base_alf, alf)\n",
    "        if condition(new_value_likelihood, value_likelihood):\n",
    "            text = new_text\n",
    "            value_likelihood = new_value_likelihood\n",
    "            if value_likelihood > best_value:\n",
    "                best_value = value_likelihood\n",
    "                decoder_text = copy(text)\n",
    "                \n",
    "    out_text = ''.join(decoder_text)\n",
    "    \n",
    "    return out_text"
   ]
  },
  {
   "cell_type": "code",
   "execution_count": 243,
   "id": "1c7e14be",
   "metadata": {},
   "outputs": [],
   "source": [
    "test_s =\"\"\"Ах, не говорите мне про Австрию! Я ничего не понимаю, может быть, но Австрия никогда не хотела и не хочет войны. Она предает нас. Россия одна должна быть спасительницей Европы. Наш благодетель знает свое высокое призвание и будет верен ему. Вот одно, во что я верю. Нашему доброму и чудному государю предстоит величайшая роль в мире, и он так добродетелен и хорош, что Бог не оставит его, и он исполнит свое призвание задавить гидру революции, которая теперь еще ужаснее в лице этого убийцы и злодея. Мы одни должны искупить кровь праведника. На кого нам надеяться, я вас спрашиваю?.. Англия с своим коммерческим духом не поймет и не может понять всю высоту души императора Александра. Она отказалась очистить Мальту. Она хочет видеть, ищет заднюю мысль наших действий. Что они сказали Новосильцеву? Ничего. Они не поняли, они не могли понять самоотвержения нашего императора, который ничего не хочет для себя и все хочет для блага мира. И что они обещали? Ничего. И что обещали, и того не будет! Пруссия уже объявила, что Бонапарте непобедим и что вся Европа ничего не может против него... И я не верю ни в одном слове ни Гарденбергу, ни Гаугвицу. Cette fameuse neutralité prussienne, ce n'est qu'un piège 9. Я верю в одного Бога и в высокую судьбу нашего милого императора. Он спасет Европу!.. — Она вдруг остановилась с улыбкой насмешки над своею горячностью.\"\"\""
   ]
  },
  {
   "cell_type": "code",
   "execution_count": 250,
   "id": "8aca49e5",
   "metadata": {},
   "outputs": [
    {
     "name": "stdout",
     "output_type": "stream",
     "text": [
      "input: ах не говорите мне про австрию я ничего не понимаю может быть но австрия никогда не хотела и не хочет войны она предает нас россия одна должна быть спасительницей европы наш благодетель знает свое высокое призвание и будет верен ему вот одно во что я верю нашему доброму и чудному государю предстоит величайшая роль в мире и он так добродетелен и хорош что бог не оставит его и он исполнит свое призвание задавить гидру революции которая теперь еще ужаснее в лице этого убийцы и злодея мы одни должны искупить кровь праведника на кого нам надеяться я вас спрашиваю англия с своим коммерческим духом не поймет и не может понять всю высоту души императора александра она отказалась очистить мальту она хочет видеть ищет заднюю мысль наших действий что они сказали новосильцеву ничего они не поняли они не могли понять самоотвержения нашего императора который ничего не хочет для себя и все хочет для блага мира и что они обещали ничего и что обещали и того не будет пруссия уже объявила что бонапарте непобедим и что вся европа ничего не может против него и я не верю ни в одном слове ни гарденбергу ни гаугвицу         9 я верю в одного бога и в высокую судьбу нашего милого императора он спасет европу  она вдруг остановилась с улыбкой насмешки над своею горячностью\n",
      "\n",
      "encode: йфыхтыъмкм3д тыэхтыш3мыйк4 3даывыхд6тъмыхтышмхдэйаыэм9т ыг8 2ыхмыйк4 3двыхдцмъ5йыхтыфм тлйыдыхтыфм6т ыкм0х8ымхйыш3т5йт ыхй4ы3м44двым5хйы5мл9хйыг8 2ы4шй4д тл2хдьт0ытк3мш8ыхйюыглйъм5т тл2ыщхйт ы4кмтык84мцмтыш3дщкйхдтыдыгн5т ыкт3тхытэныкм ым5хмыкмы6 мывыкт3аыхйютэны5мг3мэныды6н5хмэныъм4н5й3аыш3т54 мд ыктлд6й0юйвы3мл2ыкыэд3тыдымхы йцы5мг3м5т тлтхыдыфм3мюы6 мыгмъыхтым4 йкд ытъмыдымхыд4шмлхд ы4кмтыш3дщкйхдтыщй5йкд 2ыъд53ны3ткмлаьддыцм м3йвы тшт32ытутын9й4хттыкылдьтыя мъмынгд0ь8ыдыщлм5твыэ8ым5хды5мл9х8ыд4цншд 2ыц3мк2ыш3йкт5хдцйыхйыцмъмыхйэыхй5тв 24вывыкй4ы4ш3йюдкйаыйхълдвы4ы4кмдэыцмээт36т4цдэы5нфмэыхтышм0эт ыдыхтыэм9т ышмхв 2ык4аык84м ны5нюдыдэшт3й м3йыйлтц4йх53йымхйым цйщйлй42ым6д4 д 2ыэйл2 нымхйыфм6т ыкд5т 2ыдут ыщй5хааыэ84л2ыхйюдфы5т04 кд0ы6 мымхды4цйщйлдыхмкм4дл2ьткныхд6тъмымхдыхтышмхвлдымхдыхтыэмълдышмхв 2ы4йэмм кт39тхдвыхйютъмыдэшт3й м3йыцм м380ыхд6тъмыхтыфм6т ы5лвы4тгвыдык4тыфм6т ы5лвыглйъйыэд3йыды6 мымхдымгтуйлдыхд6тъмыды6 мымгтуйлдыды мъмыхтыгн5т ыш3н44двын9тымгрвкдлйы6 мыгмхйшй3 тыхтшмгт5дэыды6 мык4вытк3мшйыхд6тъмыхтыэм9т ыш3м дкыхтъмыдывыхтыкт3аыхдыкым5хмэы4лмктыхдыъй35тхгт3ъныхдыъйнъкдьныыыыыыыыы7ывыкт3аыкым5хмъмыгмъйыдыкык84мцнаы4н52гныхйютъмыэдлмъмыдэшт3й м3йымхы4шй4т ытк3мшныымхйык53нъым4 йхмкдлй42ы4ынл8гцм0ыхй4этюцдыхй5ы4кмтаыъм3в6хм4 2а \n",
      "\n",
      "\n",
      "MCMC WAP: ах не говорите мне про австрию я ничего не понимаю может быть но австрия никогда не хотела и не хочет войны она предает нас россия одна должна быть спасительницей европы наш благодетель знает свое высокое призвание и будет верен ему вот одно во что я верю нашему доброму и чудному государю предстоит величайшая роль в мире и он так добродетелен и хорош что бог не оставит его и он исполнит свое призвание задавить гидру революции которая теперь еще ужаснее в лице этого убийцы и злодея мы одни должны искупить кровь праведника на кого нам надеяться я вас спрашиваю англия с своим коммерческим духом не поймет и не может понять всю высоту души императора александра она отказалась очистить мальту она хочет видеть ищет заднюю мысль наших действий что они сказали новосильцеву ничего они не поняли они не могли понять самоотвержения нашего императора который ничего не хочет для себя и все хочет для блага мира и что они обещали ничего и что обещали и того не будет пруссия уже объявила что бонапарте непобедим и что вся европа ничего не может против него и я не верю ни в одном слове ни гарденбергу ни гаугвицу         ф я верю в одного бога и в высокую судьбу нашего милого императора он спасет европу  она вдруг остановилась с улыбкой насмешки над своею горячностью \n",
      "\n",
      "\n"
     ]
    }
   ],
   "source": [
    "alf = russian_alf\n",
    "enc = RandomEncoder(alf)\n",
    "# test_s = 'Сбербанк увеличил максимальную сумму кредита по ипотеке с господдержкой до 30 млн руб. для Москвы, Московской области, Санкт-Петербурга и Ленинградской области и до 15 млн руб. для других регионов, сообщили в банке.'\n",
    "code = enc.encode(filter_symbols(russian_alf, test_s))\n",
    "print(f\"\"\"input: {filter_symbols(russian_alf, test_s)}\\n\n",
    "encode: {code} \\n\n",
    "\n",
    "MCMC WAP: {mcmc_decoder(code, russian_alf, get_bigram_counter(files['AnnaKarenina']))} \\n\n",
    "\"\"\")"
   ]
  },
  {
   "cell_type": "markdown",
   "id": "9dfa9c3f",
   "metadata": {},
   "source": [
    "Переводит намного лучше, предыдущих"
   ]
  },
  {
   "cell_type": "markdown",
   "id": "83269919",
   "metadata": {},
   "source": [
    "### 4"
   ]
  },
  {
   "cell_type": "markdown",
   "id": "c6deff7b",
   "metadata": {},
   "source": [
    "←⇠⇒↟↹↷⇊↹↷↟↤↟↨←↹↝⇛⇯↳⇴⇒⇈↝⇊↾↹↟⇒↟↹⇷⇛⇞↨↟↹↝⇛⇯↳⇴⇒⇈↝⇊↾↹↨←⇌⇠↨↹⇙↹⇸↨⇛↙⇛↹⇠⇛⇛↲⇆←↝↟↞↹⇌⇛↨⇛⇯⇊↾↹⇒←↙⇌⇛↹⇷⇯⇛⇞↟↨⇴↨⇈↹⇠⇌⇛⇯←←↹↷⇠←↙⇛↹↷⇊↹↷⇠←↹⇠↤←⇒⇴⇒↟↹⇷⇯⇴↷↟⇒⇈↝⇛↹↟↹⇷⇛⇒⇙⇞↟↨←↹↳⇴⇌⇠↟↳⇴⇒⇈↝⇊↾↹↲⇴⇒⇒↹⇰⇴↹⇷⇛⇠⇒←↤↝←←↹⇞←↨↷←⇯↨⇛←↹⇰⇴↤⇴↝↟←↹⇌⇙⇯⇠⇴↹↘⇛↨↞↹⇌⇛↝←⇞↝⇛↹↞↹↝↟⇞←↙⇛↹↝←↹⇛↲←⇆⇴⇏\n",
    "Или это (они одинаковые, второй вариант просто на случай проблем с юникодом):\n",
    "დჳჵჂႨშႼႨშჂხჂჲდႨსႹႭჾႣჵისႼჰႨჂჵჂႨႲႹႧჲჂႨსႹႭჾႣჵისႼჰႨჲდႩჳჲႨჇႨႠჲႹქႹႨჳႹႹჱჶდსჂႽႨႩႹჲႹႭႼჰႨჵდქႩႹႨႲႭႹႧჂჲႣჲიႨჳႩႹႭდდႨშჳდქႹႨშႼႨშჳდႨჳხდჵႣჵჂႨႲႭႣშჂჵისႹႨჂႨႲႹჵჇႧჂჲდႨჾႣႩჳჂჾႣჵისႼჰႨჱႣჵჵႨეႣႨႲႹჳჵდხსდდႨႧდჲშდႭჲႹდႨეႣხႣსჂდႨႩჇႭჳႣႨႾႹჲႽႨႩႹსდႧსႹႨႽႨსჂႧდქႹႨსდႨႹჱდჶႣნ\n"
   ]
  },
  {
   "cell_type": "code",
   "execution_count": 288,
   "id": "d9dbfc7b",
   "metadata": {
    "scrolled": true
   },
   "outputs": [
    {
     "data": {
      "text/plain": [
       "28"
      ]
     },
     "execution_count": 288,
     "metadata": {},
     "output_type": "execute_result"
    }
   ],
   "source": [
    "massage = '←⇠⇒↟↹↷⇊↹↷↟↤↟↨←↹↝⇛⇯↳⇴⇒⇈↝⇊↾↹↟⇒↟↹⇷⇛⇞↨↟↹↝⇛⇯↳⇴⇒⇈↝⇊↾↹↨←⇌⇠↨↹⇙↹⇸↨⇛↙⇛↹⇠⇛⇛↲⇆←↝↟↞↹⇌⇛↨⇛⇯⇊↾↹⇒←↙⇌⇛↹⇷⇯⇛⇞↟↨⇴↨⇈↹⇠⇌⇛⇯←←↹↷⇠←↙⇛↹↷⇊↹↷⇠←↹⇠↤←⇒⇴⇒↟↹⇷⇯⇴↷↟⇒⇈↝⇛↹↟↹⇷⇛⇒⇙⇞↟↨←↹↳⇴⇌⇠↟↳⇴⇒⇈↝⇊↾↹↲⇴⇒⇒↹⇰⇴↹⇷⇛⇠⇒←↤↝←←↹⇞←↨↷←⇯↨⇛←↹⇰⇴↤⇴↝↟←↹⇌⇙⇯⇠⇴↹↘⇛↨↞↹⇌⇛↝←⇞↝⇛↹↞↹↝↟⇞←↙⇛↹↝←↹⇛↲←⇆⇴⇏'\n",
    "alf = list(set(massage))\n",
    "len(alf)"
   ]
  },
  {
   "cell_type": "code",
   "execution_count": 273,
   "id": "966531f2",
   "metadata": {
    "scrolled": false
   },
   "outputs": [
    {
     "data": {
      "text/plain": [
       "'тпхжщнмщнжлжитщъцыайхфъмшщжхжщсцгижщъцыайхфъмшщитдпищещвицрцщпццузтъжчщдцицымшщхтрдцщсыцгжийифщпдцыттщнптрцщнмщнптщплтхйхжщсыйнжхфъцщжщсцхегжитщайдпжайхфъмшщуйххщойщсцпхтлъттщгтинтыицтщойлйъжтщдеыпйщбцичщдцътгъцщчщъжгтрцщътщцутзйк'"
      ]
     },
     "execution_count": 273,
     "metadata": {},
     "output_type": "execute_result"
    }
   ],
   "source": [
    "encoder = {k:v for k, v in zip(alf, russian_alf[:len(alf)])}\n",
    "enc_massage = [encoder.get(i) for i in massage]\n",
    "''.join(enc_massage)"
   ]
  },
  {
   "cell_type": "code",
   "execution_count": 285,
   "id": "4c5b07b4",
   "metadata": {},
   "outputs": [
    {
     "data": {
      "text/plain": [
       "'если вы вимите нордальный или почти нордальный текст у этого сообщения который легко прочитать скорее всего вы все смелали правильно и получите даксидальный балл за послемнее четвертое замание курса хотя конечно я ничего не обещаж'"
      ]
     },
     "execution_count": 285,
     "metadata": {},
     "output_type": "execute_result"
    }
   ],
   "source": [
    "alf = russian_alf[:-10]\n",
    "base = get_bigram_counter(filter_symbols(alf, files['WarAndPeace'] + files['AnnaKarenina']))\n",
    "mcmc_decoder(''.join(enc_massage), alf, base, num_iters=50000)"
   ]
  },
  {
   "cell_type": "markdown",
   "id": "ba10f614",
   "metadata": {},
   "source": [
    "Текст более менее читаем, это лучший результат"
   ]
  }
 ],
 "metadata": {
  "kernelspec": {
   "display_name": "Python 3 (ipykernel)",
   "language": "python",
   "name": "python3"
  },
  "language_info": {
   "codemirror_mode": {
    "name": "ipython",
    "version": 3
   },
   "file_extension": ".py",
   "mimetype": "text/x-python",
   "name": "python",
   "nbconvert_exporter": "python",
   "pygments_lexer": "ipython3",
   "version": "3.9.7"
  },
  "toc": {
   "base_numbering": 1,
   "nav_menu": {},
   "number_sections": true,
   "sideBar": true,
   "skip_h1_title": false,
   "title_cell": "Table of Contents",
   "title_sidebar": "Contents",
   "toc_cell": false,
   "toc_position": {
    "height": "calc(100% - 180px)",
    "left": "10px",
    "top": "150px",
    "width": "302.398px"
   },
   "toc_section_display": true,
   "toc_window_display": true
  }
 },
 "nbformat": 4,
 "nbformat_minor": 5
}
